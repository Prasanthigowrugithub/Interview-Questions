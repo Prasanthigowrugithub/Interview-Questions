{
 "cells": [
  {
   "cell_type": "code",
   "execution_count": null,
   "id": "20d0f205",
   "metadata": {},
   "outputs": [],
   "source": [
    "Q1) What are Data Types?\n",
    "Q2) What does immutable mean and what three types of Python core data types are considered immutable?\n",
    "Q3) Why are these data types known as Python’s core data types?\n",
    "Q4) What does sequence mean and which three types of data fall into this category?\n",
    "Q5) What is Python?\n",
    "Q6) What are the Key features of Python?\n",
    "Q7) What are Python Modules?\n",
    "Q8) Is that python case-sensitive?\n",
    "Q9) What are types of operators are used in python?\n",
    "Q10) What is pass in python?\n",
    "Q11) What does the continue dO in python?\n",
    "Q12) When should you use the \"Break\" in python?\n",
    "Q13) What is the difference between pass and continue in python?\n",
    "Q14) What is a built-in function that python uses to iterate over a number sequence?\n",
    "Q15) Which numbers are printed?\n",
    "Q16) How does for loop & while loop differ in python and when do you choose to use them?\n",
    "Q17) What is lambda in python?\n",
    "Q18) Mention what are the rules for local and global variables in python?\n",
    "Q19) Mention the use of the split function in python?\n",
    "Q20) What are the principal differences between the lambda & def?"
   ]
  }
 ],
 "metadata": {
  "kernelspec": {
   "display_name": "Python 3 (ipykernel)",
   "language": "python",
   "name": "python3"
  },
  "language_info": {
   "codemirror_mode": {
    "name": "ipython",
    "version": 3
   },
   "file_extension": ".py",
   "mimetype": "text/x-python",
   "name": "python",
   "nbconvert_exporter": "python",
   "pygments_lexer": "ipython3",
   "version": "3.10.6"
  }
 },
 "nbformat": 4,
 "nbformat_minor": 5
}
